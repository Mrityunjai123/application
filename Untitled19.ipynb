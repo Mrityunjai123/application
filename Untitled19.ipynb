{
  "nbformat": 4,
  "nbformat_minor": 0,
  "metadata": {
    "colab": {
      "provenance": []
    },
    "kernelspec": {
      "name": "python3",
      "display_name": "Python 3"
    },
    "language_info": {
      "name": "python"
    }
  },
  "cells": [
    {
      "cell_type": "code",
      "execution_count": null,
      "metadata": {
        "id": "uw_s-hlrPcIY"
      },
      "outputs": [],
      "source": [
        "import streamlit as st\n",
        "import tensorflow as tf\n",
        "from tensorflow.keras.preprocessing import image\n",
        "import numpy as np\n",
        "from PIL import Image\n",
        "\n",
        "# Load the models\n",
        "pcos_model = tf.keras.models.load_model(r\"C:\\Users\\Mrityunjai\\Downloads\\upload\\upload\\vgg16_pcos_detection_final.h5\")\n",
        "cancer_model = tf.keras.models.load_model(r\"D:\\SHI Project\\vgg16_breast_cancer_final.h5\")\n",
        "\n",
        "# Function to preprocess the image\n",
        "def preprocess_image(img):\n",
        "    img = img.resize((224, 224))  # Resize the image to 224x224 pixels\n",
        "    img = image.img_to_array(img)  # Convert the image to a NumPy array\n",
        "    img = np.expand_dims(img, axis=0)  # Expand dimensions to match the model's input shape\n",
        "    img = img / 255.0  # Normalize the image\n",
        "    return img\n",
        "\n",
        "# Function to predict PCOS\n",
        "def predict_pcos(img):\n",
        "    img = preprocess_image(img)\n",
        "    prediction = pcos_model.predict(img)\n",
        "    if prediction[0][0] > 0.5:\n",
        "        return \"PCOS Detected\"\n",
        "    else:\n",
        "        return \"No PCOS Detected\"\n",
        "\n",
        "# Function to predict Breast Cancer\n",
        "def predict_cancer(img):\n",
        "    img = preprocess_image(img)\n",
        "    prediction = cancer_model.predict(img)\n",
        "    if prediction[0][0] > 0.5:\n",
        "        return \"Breast Cancer Detected\"\n",
        "    else:\n",
        "        return \"No Breast Cancer Detected\"\n",
        "\n",
        "# Streamlit app\n",
        "st.title(\"PCOS and Breast Cancer Detection\")\n",
        "\n",
        "# Tab for PCOS detection\n",
        "st.header(\"PCOS Detection\")\n",
        "uploaded_file_pcos = st.file_uploader(\"Upload an image for PCOS detection\", type=[\"jpg\", \"jpeg\", \"png\"], key=\"pcos\")\n",
        "if uploaded_file_pcos is not None:\n",
        "    image_pcos = Image.open(uploaded_file_pcos)\n",
        "    st.image(image_pcos, caption=\"Uploaded Image\", use_column_width=True)\n",
        "    if st.button(\"Predict PCOS\"):\n",
        "        result = predict_pcos(image_pcos)\n",
        "        st.write(result)\n",
        "\n",
        "# Tab for Breast Cancer detection\n",
        "st.header(\"Breast Cancer Detection\")\n",
        "uploaded_file_cancer = st.file_uploader(\"Upload an image for Breast Cancer detection\", type=[\"jpg\", \"jpeg\", \"png\"], key=\"cancer\")\n",
        "if uploaded_file_cancer is not None:\n",
        "    image_cancer = Image.open(uploaded_file_cancer)\n",
        "    st.image(image_cancer, caption=\"Uploaded Image\", use_column_width=True)\n",
        "    if st.button(\"Predict Breast Cancer\"):\n",
        "        result = predict_cancer(image_cancer)\n",
        "        st.write(result)\n"
      ]
    }
  ]
}